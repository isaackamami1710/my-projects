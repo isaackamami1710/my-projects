{
 "cells": [
  {
   "cell_type": "code",
   "execution_count": 1,
   "id": "63d8e0ab-b777-4dfd-9141-b9ba2826fb59",
   "metadata": {
    "tags": []
   },
   "outputs": [],
   "source": [
    "import gzip\n",
    "import json\n",
    "import pickle\n",
    "\n",
    "import matplotlib.pyplot as plt\n",
    "import pandas as pd\n",
    "import seaborn as sns\n",
    "from imblearn.over_sampling import RandomOverSampler\n",
    "from imblearn.under_sampling import RandomUnderSampler\n",
    "from IPython.display import VimeoVideo\n",
    "from sklearn.impute import SimpleImputer\n",
    "from sklearn.metrics import ConfusionMatrixDisplay\n",
    "from sklearn.model_selection import train_test_split\n",
    "from sklearn.pipeline import make_pipeline\n",
    "from sklearn.tree import DecisionTreeClassifier"
   ]
  },
  {
   "cell_type": "markdown",
   "id": "f0ebd20a-9a9a-49ae-8c19-a2457acb53c9",
   "metadata": {},
   "source": [
    "# Importing the data from UCI Machine Learning Repository"
   ]
  },
  {
   "cell_type": "code",
   "execution_count": 2,
   "id": "115e4494-0365-48c5-9fd5-6f616223178d",
   "metadata": {
    "tags": []
   },
   "outputs": [
    {
     "name": "stdout",
     "output_type": "stream",
     "text": [
      "            A1       A2       A3      A4       A5       A6        A7       A8  \\\n",
      "year                                                                            \n",
      "1     0.200550  0.37951  0.39641  2.0472  32.3510  0.38825  0.249760  1.33050   \n",
      "1     0.209120  0.49988  0.47225  1.9447  14.7860  0.00000  0.258340  0.99601   \n",
      "1     0.248660  0.69592  0.26713  1.5548  -1.1523  0.00000  0.309060  0.43695   \n",
      "1     0.081483  0.30734  0.45879  2.4928  51.9520  0.14988  0.092704  1.86610   \n",
      "1     0.187320  0.61323  0.22960  1.4063  -7.3128  0.18732  0.187320  0.63070   \n",
      "\n",
      "          A9      A10  ...       A56      A57      A58       A59     A60  \\\n",
      "year                   ...                                                 \n",
      "1     1.1389  0.50494  ...  0.121960  0.39718  0.87804  0.001924  8.4160   \n",
      "1     1.6996  0.49788  ...  0.121300  0.42002  0.85300  0.000000  4.1486   \n",
      "1     1.3090  0.30408  ...  0.241140  0.81774  0.76599  0.694840  4.9909   \n",
      "1     1.0571  0.57353  ...  0.054015  0.14207  0.94598  0.000000  4.5746   \n",
      "1     1.1559  0.38677  ...  0.134850  0.48431  0.86515  0.124440  6.3985   \n",
      "\n",
      "         A61      A62     A63      A64  class  \n",
      "year                                           \n",
      "1     5.1372   82.658  4.4158   7.4277      0  \n",
      "1     3.2732  107.350  3.4000  60.9870      0  \n",
      "1     3.9510  134.270  2.7185   5.2078      0  \n",
      "1     3.6147   86.435  4.2228   5.5497      0  \n",
      "1     4.3158  127.210  2.8692   7.8980      0  \n",
      "\n",
      "[5 rows x 65 columns]\n",
      "            A1       A2       A3      A4       A5       A6        A7       A8  \\\n",
      "year                                                                            \n",
      "1     0.200550  0.37951  0.39641  2.0472  32.3510  0.38825  0.249760  1.33050   \n",
      "1     0.209120  0.49988  0.47225  1.9447  14.7860  0.00000  0.258340  0.99601   \n",
      "1     0.248660  0.69592  0.26713  1.5548  -1.1523  0.00000  0.309060  0.43695   \n",
      "1     0.081483  0.30734  0.45879  2.4928  51.9520  0.14988  0.092704  1.86610   \n",
      "1     0.187320  0.61323  0.22960  1.4063  -7.3128  0.18732  0.187320  0.63070   \n",
      "\n",
      "          A9      A10  ...       A56      A57      A58       A59     A60  \\\n",
      "year                   ...                                                 \n",
      "1     1.1389  0.50494  ...  0.121960  0.39718  0.87804  0.001924  8.4160   \n",
      "1     1.6996  0.49788  ...  0.121300  0.42002  0.85300  0.000000  4.1486   \n",
      "1     1.3090  0.30408  ...  0.241140  0.81774  0.76599  0.694840  4.9909   \n",
      "1     1.0571  0.57353  ...  0.054015  0.14207  0.94598  0.000000  4.5746   \n",
      "1     1.1559  0.38677  ...  0.134850  0.48431  0.86515  0.124440  6.3985   \n",
      "\n",
      "         A61      A62     A63      A64  class  \n",
      "year                                           \n",
      "1     5.1372   82.658  4.4158   7.4277      0  \n",
      "1     3.2732  107.350  3.4000  60.9870      0  \n",
      "1     3.9510  134.270  2.7185   5.2078      0  \n",
      "1     3.6147   86.435  4.2228   5.5497      0  \n",
      "1     4.3158  127.210  2.8692   7.8980      0  \n",
      "\n",
      "[5 rows x 65 columns]\n"
     ]
    }
   ],
   "source": [
    "from ucimlrepo import fetch_ucirepo\n",
    "import pandas as pd\n",
    "\n",
    "# Fetch the dataset\n",
    "polish_companies_bankruptcy = fetch_ucirepo(id=365)\n",
    "\n",
    "# Extract the features and targets as pandas DataFrames\n",
    "X = polish_companies_bankruptcy.data.features\n",
    "y = polish_companies_bankruptcy.data.targets\n",
    "\n",
    "# Combine features and targets into a single DataFrame\n",
    "data = pd.concat([X, y], axis=1)\n",
    "\n",
    "# Suppose the dataset contains a column \"company_id\" that you want to set as index\n",
    "# Example: Assuming \"company_id\" is one of the columns in the dataset\n",
    "# If \"company_id\" is not present, you need to specify an appropriate index column\n",
    "\n",
    "# Set the index (uncomment the following line if \"company_id\" is an actual column)\n",
    "data.set_index(\"year\", inplace=True)\n",
    "\n",
    "# Display the DataFrame\n",
    "print(data.head())\n",
    "\n",
    "# If \"company_id\" is not a column in the dataset, you might need to generate or specify an appropriate index:\n",
    "# For example, setting the index to the first column\n",
    "#data.set_index(data.columns[0], inplace=True)\n",
    "\n",
    "# Display the updated DataFrame\n",
    "print(data.head())\n"
   ]
  },
  {
   "cell_type": "code",
   "execution_count": 5,
   "id": "f2840dd3-0dee-4d17-8b26-ebf28c81b94f",
   "metadata": {
    "tags": []
   },
   "outputs": [],
   "source": [
    "df=pd.DataFrame(data)"
   ]
  },
  {
   "cell_type": "code",
   "execution_count": 6,
   "id": "683ee494-e74c-4c9e-a75c-af3ea2f3015d",
   "metadata": {
    "tags": []
   },
   "outputs": [
    {
     "data": {
      "text/html": [
       "<div>\n",
       "<style scoped>\n",
       "    .dataframe tbody tr th:only-of-type {\n",
       "        vertical-align: middle;\n",
       "    }\n",
       "\n",
       "    .dataframe tbody tr th {\n",
       "        vertical-align: top;\n",
       "    }\n",
       "\n",
       "    .dataframe thead th {\n",
       "        text-align: right;\n",
       "    }\n",
       "</style>\n",
       "<table border=\"1\" class=\"dataframe\">\n",
       "  <thead>\n",
       "    <tr style=\"text-align: right;\">\n",
       "      <th></th>\n",
       "      <th>A1</th>\n",
       "      <th>A2</th>\n",
       "      <th>A3</th>\n",
       "      <th>A4</th>\n",
       "      <th>A5</th>\n",
       "      <th>A6</th>\n",
       "      <th>A7</th>\n",
       "      <th>A8</th>\n",
       "      <th>A9</th>\n",
       "      <th>A10</th>\n",
       "      <th>...</th>\n",
       "      <th>A56</th>\n",
       "      <th>A57</th>\n",
       "      <th>A58</th>\n",
       "      <th>A59</th>\n",
       "      <th>A60</th>\n",
       "      <th>A61</th>\n",
       "      <th>A62</th>\n",
       "      <th>A63</th>\n",
       "      <th>A64</th>\n",
       "      <th>class</th>\n",
       "    </tr>\n",
       "    <tr>\n",
       "      <th>year</th>\n",
       "      <th></th>\n",
       "      <th></th>\n",
       "      <th></th>\n",
       "      <th></th>\n",
       "      <th></th>\n",
       "      <th></th>\n",
       "      <th></th>\n",
       "      <th></th>\n",
       "      <th></th>\n",
       "      <th></th>\n",
       "      <th></th>\n",
       "      <th></th>\n",
       "      <th></th>\n",
       "      <th></th>\n",
       "      <th></th>\n",
       "      <th></th>\n",
       "      <th></th>\n",
       "      <th></th>\n",
       "      <th></th>\n",
       "      <th></th>\n",
       "      <th></th>\n",
       "    </tr>\n",
       "  </thead>\n",
       "  <tbody>\n",
       "    <tr>\n",
       "      <th>1</th>\n",
       "      <td>0.200550</td>\n",
       "      <td>0.37951</td>\n",
       "      <td>0.39641</td>\n",
       "      <td>2.0472</td>\n",
       "      <td>32.3510</td>\n",
       "      <td>0.38825</td>\n",
       "      <td>0.249760</td>\n",
       "      <td>1.33050</td>\n",
       "      <td>1.1389</td>\n",
       "      <td>0.50494</td>\n",
       "      <td>...</td>\n",
       "      <td>0.121960</td>\n",
       "      <td>0.39718</td>\n",
       "      <td>0.87804</td>\n",
       "      <td>0.001924</td>\n",
       "      <td>8.4160</td>\n",
       "      <td>5.1372</td>\n",
       "      <td>82.658</td>\n",
       "      <td>4.4158</td>\n",
       "      <td>7.4277</td>\n",
       "      <td>0</td>\n",
       "    </tr>\n",
       "    <tr>\n",
       "      <th>1</th>\n",
       "      <td>0.209120</td>\n",
       "      <td>0.49988</td>\n",
       "      <td>0.47225</td>\n",
       "      <td>1.9447</td>\n",
       "      <td>14.7860</td>\n",
       "      <td>0.00000</td>\n",
       "      <td>0.258340</td>\n",
       "      <td>0.99601</td>\n",
       "      <td>1.6996</td>\n",
       "      <td>0.49788</td>\n",
       "      <td>...</td>\n",
       "      <td>0.121300</td>\n",
       "      <td>0.42002</td>\n",
       "      <td>0.85300</td>\n",
       "      <td>0.000000</td>\n",
       "      <td>4.1486</td>\n",
       "      <td>3.2732</td>\n",
       "      <td>107.350</td>\n",
       "      <td>3.4000</td>\n",
       "      <td>60.9870</td>\n",
       "      <td>0</td>\n",
       "    </tr>\n",
       "    <tr>\n",
       "      <th>1</th>\n",
       "      <td>0.248660</td>\n",
       "      <td>0.69592</td>\n",
       "      <td>0.26713</td>\n",
       "      <td>1.5548</td>\n",
       "      <td>-1.1523</td>\n",
       "      <td>0.00000</td>\n",
       "      <td>0.309060</td>\n",
       "      <td>0.43695</td>\n",
       "      <td>1.3090</td>\n",
       "      <td>0.30408</td>\n",
       "      <td>...</td>\n",
       "      <td>0.241140</td>\n",
       "      <td>0.81774</td>\n",
       "      <td>0.76599</td>\n",
       "      <td>0.694840</td>\n",
       "      <td>4.9909</td>\n",
       "      <td>3.9510</td>\n",
       "      <td>134.270</td>\n",
       "      <td>2.7185</td>\n",
       "      <td>5.2078</td>\n",
       "      <td>0</td>\n",
       "    </tr>\n",
       "    <tr>\n",
       "      <th>1</th>\n",
       "      <td>0.081483</td>\n",
       "      <td>0.30734</td>\n",
       "      <td>0.45879</td>\n",
       "      <td>2.4928</td>\n",
       "      <td>51.9520</td>\n",
       "      <td>0.14988</td>\n",
       "      <td>0.092704</td>\n",
       "      <td>1.86610</td>\n",
       "      <td>1.0571</td>\n",
       "      <td>0.57353</td>\n",
       "      <td>...</td>\n",
       "      <td>0.054015</td>\n",
       "      <td>0.14207</td>\n",
       "      <td>0.94598</td>\n",
       "      <td>0.000000</td>\n",
       "      <td>4.5746</td>\n",
       "      <td>3.6147</td>\n",
       "      <td>86.435</td>\n",
       "      <td>4.2228</td>\n",
       "      <td>5.5497</td>\n",
       "      <td>0</td>\n",
       "    </tr>\n",
       "    <tr>\n",
       "      <th>1</th>\n",
       "      <td>0.187320</td>\n",
       "      <td>0.61323</td>\n",
       "      <td>0.22960</td>\n",
       "      <td>1.4063</td>\n",
       "      <td>-7.3128</td>\n",
       "      <td>0.18732</td>\n",
       "      <td>0.187320</td>\n",
       "      <td>0.63070</td>\n",
       "      <td>1.1559</td>\n",
       "      <td>0.38677</td>\n",
       "      <td>...</td>\n",
       "      <td>0.134850</td>\n",
       "      <td>0.48431</td>\n",
       "      <td>0.86515</td>\n",
       "      <td>0.124440</td>\n",
       "      <td>6.3985</td>\n",
       "      <td>4.3158</td>\n",
       "      <td>127.210</td>\n",
       "      <td>2.8692</td>\n",
       "      <td>7.8980</td>\n",
       "      <td>0</td>\n",
       "    </tr>\n",
       "  </tbody>\n",
       "</table>\n",
       "<p>5 rows × 65 columns</p>\n",
       "</div>"
      ],
      "text/plain": [
       "            A1       A2       A3      A4       A5       A6        A7       A8  \\\n",
       "year                                                                            \n",
       "1     0.200550  0.37951  0.39641  2.0472  32.3510  0.38825  0.249760  1.33050   \n",
       "1     0.209120  0.49988  0.47225  1.9447  14.7860  0.00000  0.258340  0.99601   \n",
       "1     0.248660  0.69592  0.26713  1.5548  -1.1523  0.00000  0.309060  0.43695   \n",
       "1     0.081483  0.30734  0.45879  2.4928  51.9520  0.14988  0.092704  1.86610   \n",
       "1     0.187320  0.61323  0.22960  1.4063  -7.3128  0.18732  0.187320  0.63070   \n",
       "\n",
       "          A9      A10  ...       A56      A57      A58       A59     A60  \\\n",
       "year                   ...                                                 \n",
       "1     1.1389  0.50494  ...  0.121960  0.39718  0.87804  0.001924  8.4160   \n",
       "1     1.6996  0.49788  ...  0.121300  0.42002  0.85300  0.000000  4.1486   \n",
       "1     1.3090  0.30408  ...  0.241140  0.81774  0.76599  0.694840  4.9909   \n",
       "1     1.0571  0.57353  ...  0.054015  0.14207  0.94598  0.000000  4.5746   \n",
       "1     1.1559  0.38677  ...  0.134850  0.48431  0.86515  0.124440  6.3985   \n",
       "\n",
       "         A61      A62     A63      A64  class  \n",
       "year                                           \n",
       "1     5.1372   82.658  4.4158   7.4277      0  \n",
       "1     3.2732  107.350  3.4000  60.9870      0  \n",
       "1     3.9510  134.270  2.7185   5.2078      0  \n",
       "1     3.6147   86.435  4.2228   5.5497      0  \n",
       "1     4.3158  127.210  2.8692   7.8980      0  \n",
       "\n",
       "[5 rows x 65 columns]"
      ]
     },
     "execution_count": 6,
     "metadata": {},
     "output_type": "execute_result"
    }
   ],
   "source": [
    "df.head()"
   ]
  },
  {
   "cell_type": "code",
   "execution_count": 7,
   "id": "d03bfbfb-821c-42b2-a4fa-bcdfeba4ac89",
   "metadata": {
    "tags": []
   },
   "outputs": [
    {
     "data": {
      "text/plain": [
       "(43405, 65)"
      ]
     },
     "execution_count": 7,
     "metadata": {},
     "output_type": "execute_result"
    }
   ],
   "source": [
    "df.shape"
   ]
  },
  {
   "cell_type": "code",
   "execution_count": 8,
   "id": "e12c9f95-a2de-434b-9f36-c80a6afa64d7",
   "metadata": {
    "tags": []
   },
   "outputs": [
    {
     "data": {
      "image/png": "[encoded data removed]",
      "text/plain": [
       "<Figure size 640x480 with 1 Axes>"
      ]
     },
     "metadata": {},
     "output_type": "display_data"
    }
   ],
   "source": [
    "df[\"class\"].value_counts(normalize=True).plot(\n",
    "    kind=\"bar\",\n",
    "    xlabel=\"bankrupt\",\n",
    "    ylabel=\"frequency\");"
   ]
  },
  {
   "cell_type": "code",
   "execution_count": 9,
   "id": "d2f4d8ad-07c4-4282-ae21-234479765333",
   "metadata": {
    "tags": []
   },
   "outputs": [],
   "source": [
    "import seaborn as sns"
   ]
  },
  {
   "cell_type": "code",
   "execution_count": 10,
   "id": "021e02f8-27cd-49c6-a9fa-49b82629ea89",
   "metadata": {
    "tags": []
   },
   "outputs": [
    {
     "data": {
      "text/plain": [
       "<Axes: >"
      ]
     },
     "execution_count": 10,
     "metadata": {},
     "output_type": "execute_result"
    },
    {
     "data": {
      "image/png": "[encoded data removed]",
      "text/plain": [
       "<Figure size 640x480 with 2 Axes>"
      ]
     },
     "metadata": {},
     "output_type": "display_data"
    }
   ],
   "source": [
    "corr = df.drop(columns=\"class\").corr()\n",
    "sns.heatmap(corr)"
   ]
  },
  {
   "cell_type": "markdown",
   "id": "6601a414-4d1e-429c-b39a-a76df3324626",
   "metadata": {},
   "source": [
    "# SPLIT"
   ]
  },
  {
   "cell_type": "code",
   "execution_count": 11,
   "id": "595d270f-bb1a-4e1d-8019-f803b4f9d35a",
   "metadata": {
    "tags": []
   },
   "outputs": [
    {
     "name": "stdout",
     "output_type": "stream",
     "text": [
      "X shape: (43405, 64)\n",
      "y shape: (43405,)\n"
     ]
    }
   ],
   "source": [
    "target = \"class\"\n",
    "X = df.drop(columns=\"class\")\n",
    "y = df[target]\n",
    "\n",
    "print(\"X shape:\", X.shape)\n",
    "print(\"y shape:\", y.shape)"
   ]
  },
  {
   "cell_type": "markdown",
   "id": "4788c98b-b68d-4a04-9ba5-6ff9315d29fd",
   "metadata": {},
   "source": [
    "# Perform a randomized train-test split using scikit-learn."
   ]
  },
  {
   "cell_type": "code",
   "execution_count": 12,
   "id": "c1564dcd-a9d8-4786-a022-17a15de0dbd2",
   "metadata": {
    "tags": []
   },
   "outputs": [
    {
     "name": "stdout",
     "output_type": "stream",
     "text": [
      "X_train shape: (34724, 64)\n",
      "y_train shape: (34724,)\n",
      "X_test shape: (8681, 64)\n",
      "y_test shape: (8681,)\n"
     ]
    }
   ],
   "source": [
    "X_train, X_test, y_train, y_test = train_test_split(\n",
    "    X,y, test_size=0.2, random_state=42)\n",
    "\n",
    "print(\"X_train shape:\", X_train.shape)\n",
    "print(\"y_train shape:\", y_train.shape)\n",
    "print(\"X_test shape:\", X_test.shape)\n",
    "print(\"y_test shape:\", y_test.shape)"
   ]
  },
  {
   "cell_type": "markdown",
   "id": "1948ce1f-16b7-4714-b3b2-4166ef013d68",
   "metadata": {},
   "source": [
    "# Resample\n",
    "Now that we've split our data into training and validation sets, we can address the class imbalance we saw during our EDA.\n",
    "+ One strategy is to resample the training data. \n",
    "+ There are many to do this, so let's start with under-sampling."
   ]
  },
  {
   "cell_type": "code",
   "execution_count": 13,
   "id": "05febc5a-2ab8-45e8-9314-fa18854e0c15",
   "metadata": {
    "tags": []
   },
   "outputs": [
    {
     "name": "stdout",
     "output_type": "stream",
     "text": [
      "(3300, 64)\n"
     ]
    },
    {
     "data": {
      "text/html": [
       "<div>\n",
       "<style scoped>\n",
       "    .dataframe tbody tr th:only-of-type {\n",
       "        vertical-align: middle;\n",
       "    }\n",
       "\n",
       "    .dataframe tbody tr th {\n",
       "        vertical-align: top;\n",
       "    }\n",
       "\n",
       "    .dataframe thead th {\n",
       "        text-align: right;\n",
       "    }\n",
       "</style>\n",
       "<table border=\"1\" class=\"dataframe\">\n",
       "  <thead>\n",
       "    <tr style=\"text-align: right;\">\n",
       "      <th></th>\n",
       "      <th>A1</th>\n",
       "      <th>A2</th>\n",
       "      <th>A3</th>\n",
       "      <th>A4</th>\n",
       "      <th>A5</th>\n",
       "      <th>A6</th>\n",
       "      <th>A7</th>\n",
       "      <th>A8</th>\n",
       "      <th>A9</th>\n",
       "      <th>A10</th>\n",
       "      <th>...</th>\n",
       "      <th>A55</th>\n",
       "      <th>A56</th>\n",
       "      <th>A57</th>\n",
       "      <th>A58</th>\n",
       "      <th>A59</th>\n",
       "      <th>A60</th>\n",
       "      <th>A61</th>\n",
       "      <th>A62</th>\n",
       "      <th>A63</th>\n",
       "      <th>A64</th>\n",
       "    </tr>\n",
       "    <tr>\n",
       "      <th>year</th>\n",
       "      <th></th>\n",
       "      <th></th>\n",
       "      <th></th>\n",
       "      <th></th>\n",
       "      <th></th>\n",
       "      <th></th>\n",
       "      <th></th>\n",
       "      <th></th>\n",
       "      <th></th>\n",
       "      <th></th>\n",
       "      <th></th>\n",
       "      <th></th>\n",
       "      <th></th>\n",
       "      <th></th>\n",
       "      <th></th>\n",
       "      <th></th>\n",
       "      <th></th>\n",
       "      <th></th>\n",
       "      <th></th>\n",
       "      <th></th>\n",
       "      <th></th>\n",
       "    </tr>\n",
       "  </thead>\n",
       "  <tbody>\n",
       "    <tr>\n",
       "      <th>3</th>\n",
       "      <td>-0.196780</td>\n",
       "      <td>0.725500</td>\n",
       "      <td>0.18188</td>\n",
       "      <td>3.0821</td>\n",
       "      <td>25.056</td>\n",
       "      <td>0.0</td>\n",
       "      <td>-0.238160</td>\n",
       "      <td>0.37837</td>\n",
       "      <td>0.65133</td>\n",
       "      <td>0.27450</td>\n",
       "      <td>...</td>\n",
       "      <td>4016.60</td>\n",
       "      <td>-0.330730</td>\n",
       "      <td>-0.716850</td>\n",
       "      <td>-0.42584</td>\n",
       "      <td>2.0455</td>\n",
       "      <td>5.1974</td>\n",
       "      <td>6.0054</td>\n",
       "      <td>48.952</td>\n",
       "      <td>7.4563</td>\n",
       "      <td>0.8913</td>\n",
       "    </tr>\n",
       "    <tr>\n",
       "      <th>5</th>\n",
       "      <td>0.341250</td>\n",
       "      <td>0.110950</td>\n",
       "      <td>0.59612</td>\n",
       "      <td>6.7003</td>\n",
       "      <td>30.043</td>\n",
       "      <td>0.0</td>\n",
       "      <td>0.420400</td>\n",
       "      <td>8.01330</td>\n",
       "      <td>1.28400</td>\n",
       "      <td>0.88905</td>\n",
       "      <td>...</td>\n",
       "      <td>6654.70</td>\n",
       "      <td>0.331860</td>\n",
       "      <td>0.383830</td>\n",
       "      <td>0.67452</td>\n",
       "      <td>0.0000</td>\n",
       "      <td>2.4704</td>\n",
       "      <td>12.9360</td>\n",
       "      <td>29.729</td>\n",
       "      <td>12.2780</td>\n",
       "      <td>4.2898</td>\n",
       "    </tr>\n",
       "    <tr>\n",
       "      <th>4</th>\n",
       "      <td>0.011582</td>\n",
       "      <td>0.824950</td>\n",
       "      <td>0.09303</td>\n",
       "      <td>1.1902</td>\n",
       "      <td>-24.185</td>\n",
       "      <td>0.0</td>\n",
       "      <td>0.011582</td>\n",
       "      <td>0.21219</td>\n",
       "      <td>1.69320</td>\n",
       "      <td>0.17505</td>\n",
       "      <td>...</td>\n",
       "      <td>1161.30</td>\n",
       "      <td>0.018158</td>\n",
       "      <td>0.066162</td>\n",
       "      <td>0.99328</td>\n",
       "      <td>1.6749</td>\n",
       "      <td>8.9392</td>\n",
       "      <td>4.4818</td>\n",
       "      <td>105.440</td>\n",
       "      <td>3.4618</td>\n",
       "      <td>4.0523</td>\n",
       "    </tr>\n",
       "    <tr>\n",
       "      <th>2</th>\n",
       "      <td>0.547970</td>\n",
       "      <td>0.077456</td>\n",
       "      <td>0.66822</td>\n",
       "      <td>9.7478</td>\n",
       "      <td>464.280</td>\n",
       "      <td>0.0</td>\n",
       "      <td>0.678620</td>\n",
       "      <td>11.91000</td>\n",
       "      <td>1.34210</td>\n",
       "      <td>0.92254</td>\n",
       "      <td>...</td>\n",
       "      <td>796.30</td>\n",
       "      <td>0.597590</td>\n",
       "      <td>0.593980</td>\n",
       "      <td>0.50191</td>\n",
       "      <td>0.0000</td>\n",
       "      <td>NaN</td>\n",
       "      <td>11.0110</td>\n",
       "      <td>20.775</td>\n",
       "      <td>17.5690</td>\n",
       "      <td>5.2551</td>\n",
       "    </tr>\n",
       "    <tr>\n",
       "      <th>4</th>\n",
       "      <td>-0.022274</td>\n",
       "      <td>0.657270</td>\n",
       "      <td>0.29107</td>\n",
       "      <td>1.7282</td>\n",
       "      <td>17.059</td>\n",
       "      <td>0.0</td>\n",
       "      <td>-0.022274</td>\n",
       "      <td>0.52144</td>\n",
       "      <td>1.32110</td>\n",
       "      <td>0.34273</td>\n",
       "      <td>...</td>\n",
       "      <td>262.05</td>\n",
       "      <td>-0.803580</td>\n",
       "      <td>-0.064990</td>\n",
       "      <td>1.00940</td>\n",
       "      <td>0.0000</td>\n",
       "      <td>7.4160</td>\n",
       "      <td>5.4275</td>\n",
       "      <td>110.440</td>\n",
       "      <td>3.3050</td>\n",
       "      <td>4.2729</td>\n",
       "    </tr>\n",
       "  </tbody>\n",
       "</table>\n",
       "<p>5 rows × 64 columns</p>\n",
       "</div>"
      ],
      "text/plain": [
       "            A1        A2       A3      A4       A5   A6        A7        A8  \\\n",
       "year                                                                          \n",
       "3    -0.196780  0.725500  0.18188  3.0821   25.056  0.0 -0.238160   0.37837   \n",
       "5     0.341250  0.110950  0.59612  6.7003   30.043  0.0  0.420400   8.01330   \n",
       "4     0.011582  0.824950  0.09303  1.1902  -24.185  0.0  0.011582   0.21219   \n",
       "2     0.547970  0.077456  0.66822  9.7478  464.280  0.0  0.678620  11.91000   \n",
       "4    -0.022274  0.657270  0.29107  1.7282   17.059  0.0 -0.022274   0.52144   \n",
       "\n",
       "           A9      A10  ...      A55       A56       A57      A58     A59  \\\n",
       "year                    ...                                                 \n",
       "3     0.65133  0.27450  ...  4016.60 -0.330730 -0.716850 -0.42584  2.0455   \n",
       "5     1.28400  0.88905  ...  6654.70  0.331860  0.383830  0.67452  0.0000   \n",
       "4     1.69320  0.17505  ...  1161.30  0.018158  0.066162  0.99328  1.6749   \n",
       "2     1.34210  0.92254  ...   796.30  0.597590  0.593980  0.50191  0.0000   \n",
       "4     1.32110  0.34273  ...   262.05 -0.803580 -0.064990  1.00940  0.0000   \n",
       "\n",
       "         A60      A61      A62      A63     A64  \n",
       "year                                             \n",
       "3     5.1974   6.0054   48.952   7.4563  0.8913  \n",
       "5     2.4704  12.9360   29.729  12.2780  4.2898  \n",
       "4     8.9392   4.4818  105.440   3.4618  4.0523  \n",
       "2        NaN  11.0110   20.775  17.5690  5.2551  \n",
       "4     7.4160   5.4275  110.440   3.3050  4.2729  \n",
       "\n",
       "[5 rows x 64 columns]"
      ]
     },
     "execution_count": 13,
     "metadata": {},
     "output_type": "execute_result"
    }
   ],
   "source": [
    "under_sampler = RandomUnderSampler(random_state=42)\n",
    "X_train_under, y_train_under = under_sampler.fit_resample(X_train, y_train)\n",
    "print(X_train_under.shape)\n",
    "X_train_under.head()"
   ]
  },
  {
   "cell_type": "code",
   "execution_count": 14,
   "id": "1a47a7ce-dc9b-4784-9086-0c477e4d066c",
   "metadata": {
    "tags": []
   },
   "outputs": [
    {
     "name": "stdout",
     "output_type": "stream",
     "text": [
      "(66148, 64)\n"
     ]
    },
    {
     "data": {
      "text/html": [
       "<div>\n",
       "<style scoped>\n",
       "    .dataframe tbody tr th:only-of-type {\n",
       "        vertical-align: middle;\n",
       "    }\n",
       "\n",
       "    .dataframe tbody tr th {\n",
       "        vertical-align: top;\n",
       "    }\n",
       "\n",
       "    .dataframe thead th {\n",
       "        text-align: right;\n",
       "    }\n",
       "</style>\n",
       "<table border=\"1\" class=\"dataframe\">\n",
       "  <thead>\n",
       "    <tr style=\"text-align: right;\">\n",
       "      <th></th>\n",
       "      <th>A1</th>\n",
       "      <th>A2</th>\n",
       "      <th>A3</th>\n",
       "      <th>A4</th>\n",
       "      <th>A5</th>\n",
       "      <th>A6</th>\n",
       "      <th>A7</th>\n",
       "      <th>A8</th>\n",
       "      <th>A9</th>\n",
       "      <th>A10</th>\n",
       "      <th>...</th>\n",
       "      <th>A55</th>\n",
       "      <th>A56</th>\n",
       "      <th>A57</th>\n",
       "      <th>A58</th>\n",
       "      <th>A59</th>\n",
       "      <th>A60</th>\n",
       "      <th>A61</th>\n",
       "      <th>A62</th>\n",
       "      <th>A63</th>\n",
       "      <th>A64</th>\n",
       "    </tr>\n",
       "  </thead>\n",
       "  <tbody>\n",
       "    <tr>\n",
       "      <th>0</th>\n",
       "      <td>-0.057539</td>\n",
       "      <td>0.44252</td>\n",
       "      <td>0.223210</td>\n",
       "      <td>1.57370</td>\n",
       "      <td>23.3010</td>\n",
       "      <td>0.161160</td>\n",
       "      <td>-0.055615</td>\n",
       "      <td>1.25980</td>\n",
       "      <td>0.94527</td>\n",
       "      <td>0.55748</td>\n",
       "      <td>...</td>\n",
       "      <td>8934.000</td>\n",
       "      <td>-0.057899</td>\n",
       "      <td>-0.10321</td>\n",
       "      <td>1.05790</td>\n",
       "      <td>0.095908</td>\n",
       "      <td>11.846</td>\n",
       "      <td>3.9378</td>\n",
       "      <td>101.98</td>\n",
       "      <td>3.5792</td>\n",
       "      <td>3.5914</td>\n",
       "    </tr>\n",
       "    <tr>\n",
       "      <th>1</th>\n",
       "      <td>-0.128080</td>\n",
       "      <td>0.85370</td>\n",
       "      <td>-0.025713</td>\n",
       "      <td>0.96909</td>\n",
       "      <td>-39.4380</td>\n",
       "      <td>-0.031407</td>\n",
       "      <td>-0.128080</td>\n",
       "      <td>0.17137</td>\n",
       "      <td>3.02940</td>\n",
       "      <td>0.14630</td>\n",
       "      <td>...</td>\n",
       "      <td>-1148.500</td>\n",
       "      <td>0.168690</td>\n",
       "      <td>-0.87547</td>\n",
       "      <td>0.85164</td>\n",
       "      <td>0.000000</td>\n",
       "      <td>14.730</td>\n",
       "      <td>5.2979</td>\n",
       "      <td>100.23</td>\n",
       "      <td>3.6416</td>\n",
       "      <td>15.6290</td>\n",
       "    </tr>\n",
       "    <tr>\n",
       "      <th>2</th>\n",
       "      <td>-0.104010</td>\n",
       "      <td>0.86107</td>\n",
       "      <td>0.059173</td>\n",
       "      <td>1.06870</td>\n",
       "      <td>1.8093</td>\n",
       "      <td>0.000000</td>\n",
       "      <td>-0.104010</td>\n",
       "      <td>0.16134</td>\n",
       "      <td>2.28140</td>\n",
       "      <td>0.13893</td>\n",
       "      <td>...</td>\n",
       "      <td>27.807</td>\n",
       "      <td>0.196490</td>\n",
       "      <td>-0.74866</td>\n",
       "      <td>0.80469</td>\n",
       "      <td>0.000000</td>\n",
       "      <td>45.658</td>\n",
       "      <td>2.6453</td>\n",
       "      <td>137.76</td>\n",
       "      <td>2.6495</td>\n",
       "      <td>28.6050</td>\n",
       "    </tr>\n",
       "    <tr>\n",
       "      <th>3</th>\n",
       "      <td>0.175230</td>\n",
       "      <td>0.76406</td>\n",
       "      <td>0.071079</td>\n",
       "      <td>1.09300</td>\n",
       "      <td>-26.2280</td>\n",
       "      <td>0.175230</td>\n",
       "      <td>0.212090</td>\n",
       "      <td>0.25730</td>\n",
       "      <td>1.05880</td>\n",
       "      <td>0.19660</td>\n",
       "      <td>...</td>\n",
       "      <td>679.300</td>\n",
       "      <td>0.055543</td>\n",
       "      <td>0.89134</td>\n",
       "      <td>0.94446</td>\n",
       "      <td>0.000000</td>\n",
       "      <td>10.222</td>\n",
       "      <td>3.4837</td>\n",
       "      <td>136.74</td>\n",
       "      <td>2.6693</td>\n",
       "      <td>12.3710</td>\n",
       "    </tr>\n",
       "    <tr>\n",
       "      <th>4</th>\n",
       "      <td>0.097003</td>\n",
       "      <td>0.69768</td>\n",
       "      <td>-0.129770</td>\n",
       "      <td>0.63575</td>\n",
       "      <td>-92.9040</td>\n",
       "      <td>0.116770</td>\n",
       "      <td>0.097003</td>\n",
       "      <td>0.42044</td>\n",
       "      <td>1.06030</td>\n",
       "      <td>0.29333</td>\n",
       "      <td>...</td>\n",
       "      <td>-3695.500</td>\n",
       "      <td>0.056866</td>\n",
       "      <td>0.33069</td>\n",
       "      <td>0.94313</td>\n",
       "      <td>1.163900</td>\n",
       "      <td>7.850</td>\n",
       "      <td>30.8920</td>\n",
       "      <td>100.27</td>\n",
       "      <td>3.6402</td>\n",
       "      <td>1.6766</td>\n",
       "    </tr>\n",
       "  </tbody>\n",
       "</table>\n",
       "<p>5 rows × 64 columns</p>\n",
       "</div>"
      ],
      "text/plain": [
       "         A1       A2        A3       A4       A5        A6        A7       A8  \\\n",
       "0 -0.057539  0.44252  0.223210  1.57370  23.3010  0.161160 -0.055615  1.25980   \n",
       "1 -0.128080  0.85370 -0.025713  0.96909 -39.4380 -0.031407 -0.128080  0.17137   \n",
       "2 -0.104010  0.86107  0.059173  1.06870   1.8093  0.000000 -0.104010  0.16134   \n",
       "3  0.175230  0.76406  0.071079  1.09300 -26.2280  0.175230  0.212090  0.25730   \n",
       "4  0.097003  0.69768 -0.129770  0.63575 -92.9040  0.116770  0.097003  0.42044   \n",
       "\n",
       "        A9      A10  ...       A55       A56      A57      A58       A59  \\\n",
       "0  0.94527  0.55748  ...  8934.000 -0.057899 -0.10321  1.05790  0.095908   \n",
       "1  3.02940  0.14630  ... -1148.500  0.168690 -0.87547  0.85164  0.000000   \n",
       "2  2.28140  0.13893  ...    27.807  0.196490 -0.74866  0.80469  0.000000   \n",
       "3  1.05880  0.19660  ...   679.300  0.055543  0.89134  0.94446  0.000000   \n",
       "4  1.06030  0.29333  ... -3695.500  0.056866  0.33069  0.94313  1.163900   \n",
       "\n",
       "      A60      A61     A62     A63      A64  \n",
       "0  11.846   3.9378  101.98  3.5792   3.5914  \n",
       "1  14.730   5.2979  100.23  3.6416  15.6290  \n",
       "2  45.658   2.6453  137.76  2.6495  28.6050  \n",
       "3  10.222   3.4837  136.74  2.6693  12.3710  \n",
       "4   7.850  30.8920  100.27  3.6402   1.6766  \n",
       "\n",
       "[5 rows x 64 columns]"
      ]
     },
     "execution_count": 14,
     "metadata": {},
     "output_type": "execute_result"
    }
   ],
   "source": [
    "over_sampler = RandomOverSampler(random_state=42)\n",
    "X_train_over, y_train_over = over_sampler.fit_resample(X_train, y_train)\n",
    "print(X_train_over.shape)\n",
    "X_train_over.head()"
   ]
  },
  {
   "cell_type": "markdown",
   "id": "1f38daa0-128d-4ca4-b259-aa5b121bb72f",
   "metadata": {},
   "source": [
    "# Build Model¶\n",
    "\n",
    "# Baseline"
   ]
  },
  {
   "cell_type": "code",
   "execution_count": null,
   "id": "5f6a5de4-e9a1-41ad-839c-60e0f0bcc52d",
   "metadata": {},
   "outputs": [],
   "source": []
  },
  {
   "cell_type": "code",
   "execution_count": 15,
   "id": "4003085a-88c9-4254-88e2-f4cd7665dcc7",
   "metadata": {
    "tags": []
   },
   "outputs": [
    {
     "name": "stdout",
     "output_type": "stream",
     "text": [
      "Baseline Accuracy: 0.9525\n"
     ]
    }
   ],
   "source": [
    "acc_baseline = y_train.value_counts(normalize=True).max()\n",
    "print(\"Baseline Accuracy:\", round(acc_baseline, 4))"
   ]
  },
  {
   "cell_type": "markdown",
   "id": "2e59ad6f-3562-4bcf-8cd4-3093a510e7a9",
   "metadata": {},
   "source": [
    "Note here that, because our classes are imbalanced, the baseline accuracy is very high. We should keep this in mind because, even if our trained model gets a high validation accuracy score, that doesn't mean it's actually good."
   ]
  },
  {
   "cell_type": "markdown",
   "id": "e95d568b-be42-4d48-9eac-b3bda491bebc",
   "metadata": {},
   "source": [
    "# Iterate"
   ]
  },
  {
   "cell_type": "markdown",
   "id": "186ddf67-ef48-4a50-a128-747db1e1dd6f",
   "metadata": {},
   "source": [
    "+ Creating three identical models: model_reg, model_under and model_over. \n",
    "+ All of them should use a SimpleImputer followed by a DecisionTreeClassifier. \n",
    "+ Train model_reg using the unaltered training data. \n",
    "+ For model_under, use the undersampled data. \n",
    "+ For model_over, use the oversampled data."
   ]
  },
  {
   "cell_type": "code",
   "execution_count": 16,
   "id": "bea8e5ea-4717-488a-8144-e2f0d59fa176",
   "metadata": {
    "tags": []
   },
   "outputs": [
    {
     "data": {
      "text/html": [
       "<style>#sk-container-id-1 {color: black;}#sk-container-id-1 pre{padding: 0;}#sk-container-id-1 div.sk-toggleable {background-color: white;}#sk-container-id-1 label.sk-toggleable__label {cursor: pointer;display: block;width: 100%;margin-bottom: 0;padding: 0.3em;box-sizing: border-box;text-align: center;}#sk-container-id-1 label.sk-toggleable__label-arrow:before {content: \"▸\";float: left;margin-right: 0.25em;color: #696969;}#sk-container-id-1 label.sk-toggleable__label-arrow:hover:before {color: black;}#sk-container-id-1 div.sk-estimator:hover label.sk-toggleable__label-arrow:before {color: black;}#sk-container-id-1 div.sk-toggleable__content {max-height: 0;max-width: 0;overflow: hidden;text-align: left;background-color: #f0f8ff;}#sk-container-id-1 div.sk-toggleable__content pre {margin: 0.2em;color: black;border-radius: 0.25em;background-color: #f0f8ff;}#sk-container-id-1 input.sk-toggleable__control:checked~div.sk-toggleable__content {max-height: 200px;max-width: 100%;overflow: auto;}#sk-container-id-1 input.sk-toggleable__control:checked~label.sk-toggleable__label-arrow:before {content: \"▾\";}#sk-container-id-1 div.sk-estimator input.sk-toggleable__control:checked~label.sk-toggleable__label {background-color: #d4ebff;}#sk-container-id-1 div.sk-label input.sk-toggleable__control:checked~label.sk-toggleable__label {background-color: #d4ebff;}#sk-container-id-1 input.sk-hidden--visually {border: 0;clip: rect(1px 1px 1px 1px);clip: rect(1px, 1px, 1px, 1px);height: 1px;margin: -1px;overflow: hidden;padding: 0;position: absolute;width: 1px;}#sk-container-id-1 div.sk-estimator {font-family: monospace;background-color: #f0f8ff;border: 1px dotted black;border-radius: 0.25em;box-sizing: border-box;margin-bottom: 0.5em;}#sk-container-id-1 div.sk-estimator:hover {background-color: #d4ebff;}#sk-container-id-1 div.sk-parallel-item::after {content: \"\";width: 100%;border-bottom: 1px solid gray;flex-grow: 1;}#sk-container-id-1 div.sk-label:hover label.sk-toggleable__label {background-color: #d4ebff;}#sk-container-id-1 div.sk-serial::before {content: \"\";position: absolute;border-left: 1px solid gray;box-sizing: border-box;top: 0;bottom: 0;left: 50%;z-index: 0;}#sk-container-id-1 div.sk-serial {display: flex;flex-direction: column;align-items: center;background-color: white;padding-right: 0.2em;padding-left: 0.2em;position: relative;}#sk-container-id-1 div.sk-item {position: relative;z-index: 1;}#sk-container-id-1 div.sk-parallel {display: flex;align-items: stretch;justify-content: center;background-color: white;position: relative;}#sk-container-id-1 div.sk-item::before, #sk-container-id-1 div.sk-parallel-item::before {content: \"\";position: absolute;border-left: 1px solid gray;box-sizing: border-box;top: 0;bottom: 0;left: 50%;z-index: -1;}#sk-container-id-1 div.sk-parallel-item {display: flex;flex-direction: column;z-index: 1;position: relative;background-color: white;}#sk-container-id-1 div.sk-parallel-item:first-child::after {align-self: flex-end;width: 50%;}#sk-container-id-1 div.sk-parallel-item:last-child::after {align-self: flex-start;width: 50%;}#sk-container-id-1 div.sk-parallel-item:only-child::after {width: 0;}#sk-container-id-1 div.sk-dashed-wrapped {border: 1px dashed gray;margin: 0 0.4em 0.5em 0.4em;box-sizing: border-box;padding-bottom: 0.4em;background-color: white;}#sk-container-id-1 div.sk-label label {font-family: monospace;font-weight: bold;display: inline-block;line-height: 1.2em;}#sk-container-id-1 div.sk-label-container {text-align: center;}#sk-container-id-1 div.sk-container {/* jupyter's `normalize.less` sets `[hidden] { display: none; }` but bootstrap.min.css set `[hidden] { display: none !important; }` so we also need the `!important` here to be able to override the default hidden behavior on the sphinx rendered scikit-learn.org. See: https://github.com/scikit-learn/scikit-learn/issues/21755 */display: inline-block !important;position: relative;}#sk-container-id-1 div.sk-text-repr-fallback {display: none;}</style><div id=\"sk-container-id-1\" class=\"sk-top-container\"><div class=\"sk-text-repr-fallback\"><pre>Pipeline(steps=[(&#x27;simpleimputer&#x27;, SimpleImputer(strategy=&#x27;median&#x27;)),\n",
       "                (&#x27;decisiontreeclassifier&#x27;,\n",
       "                 DecisionTreeClassifier(random_state=42))])</pre><b>In a Jupyter environment, please rerun this cell to show the HTML representation or trust the notebook. <br />On GitHub, the HTML representation is unable to render, please try loading this page with nbviewer.org.</b></div><div class=\"sk-container\" hidden><div class=\"sk-item sk-dashed-wrapped\"><div class=\"sk-label-container\"><div class=\"sk-label sk-toggleable\"><input class=\"sk-toggleable__control sk-hidden--visually\" id=\"sk-estimator-id-1\" type=\"checkbox\" ><label for=\"sk-estimator-id-1\" class=\"sk-toggleable__label sk-toggleable__label-arrow\">Pipeline</label><div class=\"sk-toggleable__content\"><pre>Pipeline(steps=[(&#x27;simpleimputer&#x27;, SimpleImputer(strategy=&#x27;median&#x27;)),\n",
       "                (&#x27;decisiontreeclassifier&#x27;,\n",
       "                 DecisionTreeClassifier(random_state=42))])</pre></div></div></div><div class=\"sk-serial\"><div class=\"sk-item\"><div class=\"sk-estimator sk-toggleable\"><input class=\"sk-toggleable__control sk-hidden--visually\" id=\"sk-estimator-id-2\" type=\"checkbox\" ><label for=\"sk-estimator-id-2\" class=\"sk-toggleable__label sk-toggleable__label-arrow\">SimpleImputer</label><div class=\"sk-toggleable__content\"><pre>SimpleImputer(strategy=&#x27;median&#x27;)</pre></div></div></div><div class=\"sk-item\"><div class=\"sk-estimator sk-toggleable\"><input class=\"sk-toggleable__control sk-hidden--visually\" id=\"sk-estimator-id-3\" type=\"checkbox\" ><label for=\"sk-estimator-id-3\" class=\"sk-toggleable__label sk-toggleable__label-arrow\">DecisionTreeClassifier</label><div class=\"sk-toggleable__content\"><pre>DecisionTreeClassifier(random_state=42)</pre></div></div></div></div></div></div></div>"
      ],
      "text/plain": [
       "Pipeline(steps=[('simpleimputer', SimpleImputer(strategy='median')),\n",
       "                ('decisiontreeclassifier',\n",
       "                 DecisionTreeClassifier(random_state=42))])"
      ]
     },
     "execution_count": 16,
     "metadata": {},
     "output_type": "execute_result"
    }
   ],
   "source": [
    "# Fit on `X_train`, `y_train`\n",
    "model_reg = make_pipeline(\n",
    "    SimpleImputer(strategy=\"median\"), DecisionTreeClassifier(random_state=42))\n",
    "model_reg.fit(X_train, y_train)\n",
    "\n",
    "# Fit on `X_train_under`, `y_train_under`\n",
    "model_under =  make_pipeline(\n",
    "    SimpleImputer(strategy=\"median\"), DecisionTreeClassifier(random_state=42))\n",
    "model_under.fit(X_train_under, y_train_under)\n",
    "\n",
    "# Fit on `X_train_over`, `y_train_over`\n",
    "model_over =  make_pipeline(\n",
    "    SimpleImputer(strategy=\"median\"), DecisionTreeClassifier(random_state=42))\n",
    "model_over.fit(X_train_over, y_train_over)"
   ]
  },
  {
   "cell_type": "markdown",
   "id": "c2b52ab7-736f-470d-9de4-607eefda8c49",
   "metadata": {},
   "source": [
    "# Evaluate"
   ]
  },
  {
   "cell_type": "code",
   "execution_count": 17,
   "id": "3ef0ae94-c316-476e-923f-3897b4b47c1b",
   "metadata": {
    "tags": []
   },
   "outputs": [
    {
     "name": "stdout",
     "output_type": "stream",
     "text": [
      "Training Accuracy: 1.0\n",
      "Test Accuracy: 0.9499\n",
      "Training Accuracy: 0.8096\n",
      "Test Accuracy: 0.7879\n",
      "Training Accuracy: 1.0\n",
      "Test Accuracy: 0.9521\n"
     ]
    }
   ],
   "source": [
    "for m in [model_reg, model_under, model_over]:\n",
    "    acc_train =m.score(X_train, y_train)\n",
    "    acc_test = m.score(X_test, y_test)\n",
    "\n",
    "    print(\"Training Accuracy:\", round(acc_train, 4))\n",
    "    print(\"Test Accuracy:\", round(acc_test, 4))"
   ]
  },
  {
   "cell_type": "markdown",
   "id": "1554db52-02f8-4833-87ff-98f9f28f52ca",
   "metadata": {},
   "source": [
    "\"Good\" accuracy scores don't tell us much about the model's performance when dealing with imbalanced data. So instead of looking at what the model got right or wrong, let's see how its predictions differ for the two classes in the dataset."
   ]
  },
  {
   "cell_type": "markdown",
   "id": "f32778fe-ccca-43aa-850e-a36ec261dad2",
   "metadata": {},
   "source": [
    "# A Confusion matrix that shows how  best model performs on  validation set."
   ]
  },
  {
   "cell_type": "code",
   "execution_count": 18,
   "id": "df1bbfed-a1fe-4b71-b95a-5f22e10bced1",
   "metadata": {
    "tags": []
   },
   "outputs": [
    {
     "data": {
      "image/png": "[encoded data removed]",
      "text/plain": [
       "<Figure size 640x480 with 2 Axes>"
      ]
     },
     "metadata": {},
     "output_type": "display_data"
    }
   ],
   "source": [
    "# Plot confusion matrix\n",
    "ConfusionMatrixDisplay.from_estimator(model_over, X_test, y_test);\n"
   ]
  },
  {
   "cell_type": "markdown",
   "id": "dcba71a2-1669-4273-8e63-222631a7fb99",
   "metadata": {},
   "source": [
    "# The depth of the decision tree in model_over."
   ]
  },
  {
   "cell_type": "code",
   "execution_count": 19,
   "id": "d9195a54-e640-4680-823d-4f6fd11a616c",
   "metadata": {
    "tags": []
   },
   "outputs": [
    {
     "name": "stdout",
     "output_type": "stream",
     "text": [
      "48\n"
     ]
    }
   ],
   "source": [
    "depth = model_over.named_steps['decisiontreeclassifier'].get_depth()\n",
    "print(depth)"
   ]
  },
  {
   "cell_type": "markdown",
   "id": "0e6e0d11-e983-40b6-a39e-e00d06cbe9c5",
   "metadata": {},
   "source": [
    "# Communicating Results"
   ]
  },
  {
   "cell_type": "code",
   "execution_count": 20,
   "id": "c6eb6a8c-ca30-4e9e-bd72-d25fba947f58",
   "metadata": {
    "tags": []
   },
   "outputs": [
    {
     "data": {
      "image/png": "[encoded data removed]",
      "text/plain": [
       "<Figure size 640x480 with 1 Axes>"
      ]
     },
     "metadata": {},
     "output_type": "display_data"
    }
   ],
   "source": [
    "# Get importances\n",
    "importances = model_over.named_steps['decisiontreeclassifier'].feature_importances_\n",
    "\n",
    "# Put importances into a Series\n",
    "feat_imp = pd.Series(importances, index=X_train_over.columns).sort_values()\n",
    "\n",
    "\n",
    "# Plot series\n",
    "feat_imp.tail(15).plot(kind=\"barh\")\n",
    "plt.xlabel(\"Gini Importance\")\n",
    "plt.ylabel(\"Feature\")\n",
    "plt.title(\"model_over Feature Importance\");"
   ]
  },
  {
   "cell_type": "markdown",
   "id": "2918c226-c31c-4ed0-8672-342a9f8cc14d",
   "metadata": {},
   "source": [
    "# Saving the best performing model"
   ]
  },
  {
   "cell_type": "code",
   "execution_count": 23,
   "id": "d014315e-e9a8-4dc9-a00e-1605fa9f9b46",
   "metadata": {
    "tags": []
   },
   "outputs": [],
   "source": [
    "# Save your model as `\"model-5-2.pkl\"`\n",
    "with open(\"bestperformingmodel\", \"wb\") as f:\n",
    "    pickle.dump(model_over, f)"
   ]
  },
  {
   "cell_type": "markdown",
   "id": "68c17ade-f472-46da-89ee-208d48cdb01c",
   "metadata": {},
   "source": [
    "# Loading the best performing model"
   ]
  },
  {
   "cell_type": "code",
   "execution_count": 22,
   "id": "88db5055-7344-452a-abc1-b070b95edf97",
   "metadata": {
    "tags": []
   },
   "outputs": [
    {
     "name": "stdout",
     "output_type": "stream",
     "text": [
      "Pipeline(steps=[('simpleimputer', SimpleImputer(strategy='median')),\n",
      "                ('decisiontreeclassifier',\n",
      "                 DecisionTreeClassifier(random_state=42))])\n"
     ]
    }
   ],
   "source": [
    "# Load `\"model-5-2.pkl\"`\n",
    "with open(\"bestperformingmodel\", \"rb\") as f:\n",
    "    loaded_model=pickle.load(f)\n",
    "\n",
    "print(loaded_model)"
   ]
  },
  {
   "cell_type": "code",
   "execution_count": null,
   "id": "0c54d2c8-e1f2-4cb8-8214-8b8e8c15d0f6",
   "metadata": {},
   "outputs": [],
   "source": []
  }
 ],
 "metadata": {
  "kernelspec": {
   "display_name": "Python 3 (ipykernel)",
   "language": "python",
   "name": "python3"
  },
  "language_info": {
   "codemirror_mode": {
    "name": "ipython",
    "version": 3
   },
   "file_extension": ".py",
   "mimetype": "text/x-python",
   "name": "python",
   "nbconvert_exporter": "python",
   "pygments_lexer": "ipython3",
   "version": "3.11.5"
  }
 },
 "nbformat": 4,
 "nbformat_minor": 5
}
